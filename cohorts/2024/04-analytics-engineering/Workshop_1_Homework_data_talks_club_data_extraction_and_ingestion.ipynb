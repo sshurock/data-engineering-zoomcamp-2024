{
  "nbformat": 4,
  "nbformat_minor": 0,
  "metadata": {
    "colab": {
      "provenance": [],
      "toc_visible": true
    },
    "kernelspec": {
      "name": "python3",
      "display_name": "Python 3"
    },
    "language_info": {
      "name": "python"
    }
  },
  "cells": [
    {
      "cell_type": "markdown",
      "source": [
        "# **Homework**: Data talks club data engineering zoomcamp Data loading workshop\n",
        "\n",
        "Hello folks, let's practice what we learned - Loading data with the best practices of data engineering.\n",
        "\n",
        "Here are the exercises we will do\n",
        "\n",
        "\n"
      ],
      "metadata": {
        "id": "mrTFv5nPClXh"
      }
    },
    {
      "cell_type": "markdown",
      "source": [
        "# 1. Use a generator\n",
        "\n",
        "Remember the concept of generator? Let's practice using them to futher our understanding of how they work.\n",
        "\n",
        "Let's define a generator and then run it as practice.\n",
        "\n",
        "**Answer the following questions:**\n",
        "\n",
        "- **Question 1: What is the sum of the outputs of the generator for limit = 5?**\n",
        "- **Question 2: What is the 13th number yielded**\n",
        "\n",
        "I suggest practicing these questions without GPT as the purpose is to further your learning."
      ],
      "metadata": {
        "id": "wLF4iXf-NR7t"
      }
    },
    {
      "cell_type": "code",
      "source": [
        "def square_root_generator(limit):\n",
        "    n = 1\n",
        "    while n <= limit:\n",
        "        yield n ** 0.5\n",
        "        n += 1\n",
        "\n",
        "# Example usage:\n",
        "limit = 5\n",
        "generator = square_root_generator(limit)\n",
        "\n",
        "total = 0\n",
        "for sqrt_value in generator:\n",
        "    total+=sqrt_value\n",
        "    print(sqrt_value)\n",
        "\n",
        "#Problem 1\n",
        "print(\"total is\", total)\n"
      ],
      "metadata": {
        "colab": {
          "base_uri": "https://localhost:8080/"
        },
        "id": "wLng-bDJN4jf",
        "outputId": "719300c4-3f0b-4311-a71d-c21226399ab5"
      },
      "execution_count": 6,
      "outputs": [
        {
          "output_type": "stream",
          "name": "stdout",
          "text": [
            "1.0\n",
            "1.4142135623730951\n",
            "1.7320508075688772\n",
            "2.0\n",
            "2.23606797749979\n",
            "total is 8.382332347441762\n"
          ]
        }
      ]
    },
    {
      "cell_type": "code",
      "source": [
        "#Problem 2\n",
        "limit_problem2 = 13\n",
        "generator_problem2 = square_root_generator(limit_problem2)\n",
        "\n",
        "len = 0\n",
        "for sqrt_value in generator_problem2:\n",
        "    len+=1\n",
        "    if len == 13:\n",
        "      print(\"Value 13 is\" , sqrt_value)"
      ],
      "metadata": {
        "colab": {
          "base_uri": "https://localhost:8080/"
        },
        "id": "EfimzLONRpi7",
        "outputId": "93411625-78e4-4e5d-85a3-54de97e2a76f"
      },
      "execution_count": 7,
      "outputs": [
        {
          "output_type": "stream",
          "name": "stdout",
          "text": [
            "Value 13 is 3.605551275463989\n"
          ]
        }
      ]
    },
    {
      "cell_type": "markdown",
      "source": [],
      "metadata": {
        "id": "xbe3q55zN43j"
      }
    },
    {
      "cell_type": "markdown",
      "source": [
        "# 2. Append a generator to a table with existing data\n",
        "\n",
        "\n",
        "Below you have 2 generators. You will be tasked to load them to duckdb and answer some questions from the data\n",
        "\n",
        "1. Load the first generator and calculate the sum of ages of all people. Make sure to only load it once.\n",
        "2. Append the second generator to the same table as the first.\n",
        "3. **After correctly appending the data, calculate the sum of all ages of people.**\n",
        "\n",
        "\n"
      ],
      "metadata": {
        "id": "vjWhILzGJMpK"
      }
    },
    {
      "cell_type": "code",
      "execution_count": null,
      "metadata": {
        "colab": {
          "base_uri": "https://localhost:8080/"
        },
        "id": "2MoaQcdLBEk6",
        "outputId": "d2b93dc1-d83f-44ea-aeff-fdf51d75f7aa"
      },
      "outputs": [
        {
          "output_type": "stream",
          "name": "stdout",
          "text": [
            "{'ID': 1, 'Name': 'Person_1', 'Age': 26, 'City': 'City_A'}\n",
            "{'ID': 2, 'Name': 'Person_2', 'Age': 27, 'City': 'City_A'}\n",
            "{'ID': 3, 'Name': 'Person_3', 'Age': 28, 'City': 'City_A'}\n",
            "{'ID': 4, 'Name': 'Person_4', 'Age': 29, 'City': 'City_A'}\n",
            "{'ID': 5, 'Name': 'Person_5', 'Age': 30, 'City': 'City_A'}\n",
            "{'ID': 3, 'Name': 'Person_3', 'Age': 33, 'City': 'City_B', 'Occupation': 'Job_3'}\n",
            "{'ID': 4, 'Name': 'Person_4', 'Age': 34, 'City': 'City_B', 'Occupation': 'Job_4'}\n",
            "{'ID': 5, 'Name': 'Person_5', 'Age': 35, 'City': 'City_B', 'Occupation': 'Job_5'}\n",
            "{'ID': 6, 'Name': 'Person_6', 'Age': 36, 'City': 'City_B', 'Occupation': 'Job_6'}\n",
            "{'ID': 7, 'Name': 'Person_7', 'Age': 37, 'City': 'City_B', 'Occupation': 'Job_7'}\n",
            "{'ID': 8, 'Name': 'Person_8', 'Age': 38, 'City': 'City_B', 'Occupation': 'Job_8'}\n"
          ]
        }
      ],
      "source": [
        "def people_1():\n",
        "    for i in range(1, 6):\n",
        "        yield {\"ID\": i, \"Name\": f\"Person_{i}\", \"Age\": 25 + i, \"City\": \"City_A\"}\n",
        "\n",
        "for person in people_1():\n",
        "    print(person)\n",
        "\n",
        "\n",
        "def people_2():\n",
        "    for i in range(3, 9):\n",
        "        yield {\"ID\": i, \"Name\": f\"Person_{i}\", \"Age\": 30 + i, \"City\": \"City_B\", \"Occupation\": f\"Job_{i}\"}\n",
        "\n",
        "\n",
        "for person in people_2():\n",
        "    print(person)\n"
      ]
    },
    {
      "cell_type": "markdown",
      "source": [],
      "metadata": {
        "id": "vtdTIm4fvQCN"
      }
    },
    {
      "cell_type": "markdown",
      "source": [
        "# 3. Merge a generator\n",
        "\n",
        "Re-use the generators from Exercise 2.\n",
        "\n",
        "A table's primary key needs to be created from the start, so load your data to a new table with primary key ID.\n",
        "\n",
        "Load your first generator first, and then load the second one with merge. Since they have overlapping IDs, some of the records from the first load should be replaced by the ones from the second load.\n",
        "\n",
        "After loading, you should have a total of 8 records, and ID 3 should have age 33.\n",
        "\n",
        "Question: **Calculate the sum of ages of all the people loaded as described above.**\n"
      ],
      "metadata": {
        "id": "pY4cFAWOSwN1"
      }
    },
    {
      "cell_type": "markdown",
      "source": [
        "# Solution: First make sure that the following modules are installed:"
      ],
      "metadata": {
        "id": "kKB2GTB9oVjr"
      }
    },
    {
      "cell_type": "code",
      "source": [
        "#Install the dependencies\n",
        "%%capture\n",
        "!pip install dlt[duckdb]\n",
        "import duckdb\n",
        "import pandas as pd\n",
        "import dlt"
      ],
      "metadata": {
        "id": "xTVvtyqrfVNq"
      },
      "execution_count": 66,
      "outputs": []
    },
    {
      "cell_type": "code",
      "source": [
        "db = duckdb.connect()"
      ],
      "metadata": {
        "id": "aRLz7sYpb2Vr"
      },
      "execution_count": 67,
      "outputs": []
    },
    {
      "cell_type": "code",
      "source": [
        "@dlt.resource(name='people_all', write_disposition='append')\n",
        "def people_1():\n",
        "    for i in range(1, 6):\n",
        "        yield {\"ID\": i, \"Name\": f\"Person_{i}\", \"Age\": 25 + i, \"City\": \"City_A\"}\n",
        "\n",
        "for person in people_1():\n",
        "    print(person)\n",
        "\n",
        "@dlt.resource(name='people_all', write_disposition='append')\n",
        "def people_2():\n",
        "    for i in range(3, 9):\n",
        "        yield {\"ID\": i, \"Name\": f\"Person_{i}\", \"Age\": 30 + i, \"City\": \"City_B\", \"Occupation\": f\"Job_{i}\"}\n",
        "\n",
        "\n",
        "for person in people_2():\n",
        "    print(person)\n"
      ],
      "metadata": {
        "id": "a2-PRBAkGC2K",
        "colab": {
          "base_uri": "https://localhost:8080/"
        },
        "outputId": "434cd614-0c59-416f-b262-67b94b33c0bb"
      },
      "execution_count": 11,
      "outputs": [
        {
          "output_type": "stream",
          "name": "stdout",
          "text": [
            "{'ID': 1, 'Name': 'Person_1', 'Age': 26, 'City': 'City_A'}\n",
            "{'ID': 2, 'Name': 'Person_2', 'Age': 27, 'City': 'City_A'}\n",
            "{'ID': 3, 'Name': 'Person_3', 'Age': 28, 'City': 'City_A'}\n",
            "{'ID': 4, 'Name': 'Person_4', 'Age': 29, 'City': 'City_A'}\n",
            "{'ID': 5, 'Name': 'Person_5', 'Age': 30, 'City': 'City_A'}\n",
            "{'ID': 3, 'Name': 'Person_3', 'Age': 33, 'City': 'City_B', 'Occupation': 'Job_3'}\n",
            "{'ID': 4, 'Name': 'Person_4', 'Age': 34, 'City': 'City_B', 'Occupation': 'Job_4'}\n",
            "{'ID': 5, 'Name': 'Person_5', 'Age': 35, 'City': 'City_B', 'Occupation': 'Job_5'}\n",
            "{'ID': 6, 'Name': 'Person_6', 'Age': 36, 'City': 'City_B', 'Occupation': 'Job_6'}\n",
            "{'ID': 7, 'Name': 'Person_7', 'Age': 37, 'City': 'City_B', 'Occupation': 'Job_7'}\n",
            "{'ID': 8, 'Name': 'Person_8', 'Age': 38, 'City': 'City_B', 'Occupation': 'Job_8'}\n"
          ]
        }
      ]
    },
    {
      "cell_type": "code",
      "source": [
        "pipeline = dlt.pipeline(\n",
        "    pipeline_name=\"pipeline_problem_3\",\n",
        "    destination='duckdb',\n",
        "    dataset_name=\"people\",\n",
        "    credentials =db\n",
        "\n",
        ")"
      ],
      "metadata": {
        "colab": {
          "base_uri": "https://localhost:8080/"
        },
        "id": "KVLmTLOlSOnc",
        "outputId": "7b9d36f3-b51e-48fa-d379-bf46528c41e3"
      },
      "execution_count": 68,
      "outputs": [
        {
          "output_type": "stream",
          "name": "stderr",
          "text": [
            "/usr/local/lib/python3.10/dist-packages/dlt/pipeline/__init__.py:108: Dlt04DeprecationWarning: The `credentials argument` to pipeline is deprecated and will be removed in a future version. Pass the same credentials to the `destination` instance instead, e.g. pipeline(destination=dlt.destinations.duckdb(credentials=...)). Deprecated in dlt 0.4.0 to be removed in 0.5.0.\n",
            "  credentials_argument_deprecated(\"pipeline\", credentials, destination)\n"
          ]
        }
      ]
    },
    {
      "cell_type": "code",
      "source": [
        "pipeline.run(people_1())\n",
        "\n",
        "pipeline.run(people_2())"
      ],
      "metadata": {
        "colab": {
          "base_uri": "https://localhost:8080/"
        },
        "id": "lxUBKwgkSrNK",
        "outputId": "40e9a23a-f54c-4e56-ac1a-071256c5bced"
      },
      "execution_count": 69,
      "outputs": [
        {
          "output_type": "execute_result",
          "data": {
            "text/plain": [
              "LoadInfo(pipeline=<dlt.pipeline.pipeline.Pipeline object at 0x7a77b3954bb0>, metrics={'1708280261.5985775': [{'started_at': DateTime(2024, 2, 18, 18, 17, 42, 17653, tzinfo=Timezone('UTC')), 'finished_at': DateTime(2024, 2, 18, 18, 17, 42, 380300, tzinfo=Timezone('UTC'))}]}, destination_type='dlt.destinations.duckdb', destination_displayable_credentials='duckdb:///:external:', destination_name='duckdb', environment=None, staging_type=None, staging_name=None, staging_displayable_credentials=None, destination_fingerprint='', dataset_name='people', loads_ids=['1708280261.5985775'], load_packages=[LoadPackageInfo(load_id='1708280261.5985775', package_path='/var/dlt/pipelines/pipeline_problem_3/load/loaded/1708280261.5985775', state='loaded', schema=Schema pipeline_problem_3 at 134655574287424, schema_update={'people_all': {'columns': {'occupation': {'name': 'occupation', 'data_type': 'text', 'nullable': True}}, 'write_disposition': 'append', 'name': 'people_all', 'resource': 'people_all', 'table_format': None}}, completed_at=DateTime(2024, 2, 18, 18, 17, 42, 357258, tzinfo=Timezone('UTC')), jobs={'new_jobs': [], 'started_jobs': [], 'failed_jobs': [], 'completed_jobs': [LoadJobInfo(state='completed_jobs', file_path='/var/dlt/pipelines/pipeline_problem_3/load/loaded/1708280261.5985775/completed_jobs/people_all.56253863d6.0.insert_values', file_size=331, created_at=DateTime(2024, 2, 18, 18, 17, 41, 667198, tzinfo=Timezone('UTC')), elapsed=0.6900596618652344, job_file_info=ParsedLoadJobFileName(table_name='people_all', file_id='56253863d6', retry_count=0, file_format='insert_values'), failed_message=None)]})], first_run=False)"
            ]
          },
          "metadata": {},
          "execution_count": 69
        }
      ]
    },
    {
      "cell_type": "code",
      "source": [],
      "metadata": {
        "colab": {
          "base_uri": "https://localhost:8080/"
        },
        "id": "TV1Z57uCT4cS",
        "outputId": "3558740f-d5e9-4c83-beec-fd05a0f1bab2"
      },
      "execution_count": 62,
      "outputs": [
        {
          "output_type": "stream",
          "name": "stdout",
          "text": [
            "The sql extension is already loaded. To reload it, use:\n",
            "  %reload_ext sql\n"
          ]
        }
      ]
    },
    {
      "cell_type": "code",
      "source": [
        "with pipeline.sql_client() as client:\n",
        "  with client.execute_query(\n",
        "        'SELECT * FROM people_all'\n",
        "    ) as table:\n",
        "  #       # calling `df` on a cursor, returns the data as a DataFrame\n",
        "        people = table.df()"
      ],
      "metadata": {
        "id": "88NNgTAdUCk-"
      },
      "execution_count": 77,
      "outputs": []
    },
    {
      "cell_type": "code",
      "source": [
        "#Problem 3\n",
        "print(\"Total Age:\", people.age.sum())"
      ],
      "metadata": {
        "colab": {
          "base_uri": "https://localhost:8080/"
        },
        "id": "8IHcOXhccEm6",
        "outputId": "664c3fc2-da20-440c-b476-fe4f5e200389"
      },
      "execution_count": 78,
      "outputs": [
        {
          "output_type": "stream",
          "name": "stdout",
          "text": [
            "Total Age: 353\n"
          ]
        }
      ]
    },
    {
      "cell_type": "code",
      "source": [
        "@dlt.resource(merge_key = \"ID\", name='people_all_merge', write_disposition='merge')\n",
        "def people_1():\n",
        "    for i in range(1, 6):\n",
        "        yield {\"ID\": i, \"Name\": f\"Person_{i}\", \"Age\": 25 + i, \"City\": \"City_A\"}\n",
        "\n",
        "@dlt.resource(merge_key = \"ID\", name='people_all_merge', write_disposition='merge')\n",
        "def people_2():\n",
        "    for i in range(3, 9):\n",
        "        yield {\"ID\": i, \"Name\": f\"Person_{i}\", \"Age\": 30 + i, \"City\": \"City_B\", \"Occupation\": f\"Job_{i}\"}\n"
      ],
      "metadata": {
        "id": "LqrFKf8ecQ81"
      },
      "execution_count": 79,
      "outputs": []
    },
    {
      "cell_type": "code",
      "source": [
        "pipeline_problem4 = dlt.pipeline(\n",
        "    pipeline_name=\"pipeline_problem_3\",\n",
        "    destination='duckdb',\n",
        "    dataset_name=\"people\",\n",
        "    credentials =db\n",
        ")"
      ],
      "metadata": {
        "colab": {
          "base_uri": "https://localhost:8080/"
        },
        "id": "UwMlu2ERcqbW",
        "outputId": "373c30b2-cd29-4cf3-83a5-5315f94f7a8f"
      },
      "execution_count": 80,
      "outputs": [
        {
          "output_type": "stream",
          "name": "stderr",
          "text": [
            "/usr/local/lib/python3.10/dist-packages/dlt/pipeline/__init__.py:108: Dlt04DeprecationWarning: The `credentials argument` to pipeline is deprecated and will be removed in a future version. Pass the same credentials to the `destination` instance instead, e.g. pipeline(destination=dlt.destinations.duckdb(credentials=...)). Deprecated in dlt 0.4.0 to be removed in 0.5.0.\n",
            "  credentials_argument_deprecated(\"pipeline\", credentials, destination)\n"
          ]
        }
      ]
    },
    {
      "cell_type": "code",
      "source": [
        "pipeline_problem4.run(people_1())\n",
        "\n",
        "pipeline_problem4.run(people_2())"
      ],
      "metadata": {
        "colab": {
          "base_uri": "https://localhost:8080/"
        },
        "id": "2AOT4SN9cxxa",
        "outputId": "60e038af-1b56-4d82-cdea-b2ddd111d8ae"
      },
      "execution_count": 81,
      "outputs": [
        {
          "output_type": "execute_result",
          "data": {
            "text/plain": [
              "LoadInfo(pipeline=<dlt.pipeline.pipeline.Pipeline object at 0x7a77b01afe50>, metrics={'1708280467.74259': [{'started_at': DateTime(2024, 2, 18, 18, 21, 8, 128236, tzinfo=Timezone('UTC')), 'finished_at': DateTime(2024, 2, 18, 18, 21, 8, 506552, tzinfo=Timezone('UTC'))}]}, destination_type='dlt.destinations.duckdb', destination_displayable_credentials='duckdb:///:external:', destination_name='duckdb', environment=None, staging_type=None, staging_name=None, staging_displayable_credentials=None, destination_fingerprint='', dataset_name='people', loads_ids=['1708280467.74259'], load_packages=[LoadPackageInfo(load_id='1708280467.74259', package_path='/var/dlt/pipelines/pipeline_problem_3/load/loaded/1708280467.74259', state='loaded', schema=Schema pipeline_problem_3 at 134655574287040, schema_update={'people_all_merge': {'columns': {'occupation': {'name': 'occupation', 'data_type': 'text', 'nullable': True}}, 'write_disposition': 'merge', 'name': 'people_all_merge', 'resource': 'people_all_merge', 'table_format': None}}, completed_at=DateTime(2024, 2, 18, 18, 21, 8, 493131, tzinfo=Timezone('UTC')), jobs={'new_jobs': [], 'started_jobs': [], 'failed_jobs': [], 'completed_jobs': [LoadJobInfo(state='completed_jobs', file_path='/var/dlt/pipelines/pipeline_problem_3/load/loaded/1708280467.74259/completed_jobs/people_all_merge.e0e1750d94.0.sql', file_size=365, created_at=DateTime(2024, 2, 18, 18, 21, 8, 229108, tzinfo=Timezone('UTC')), elapsed=0.2640233039855957, job_file_info=ParsedLoadJobFileName(table_name='people_all_merge', file_id='e0e1750d94', retry_count=0, file_format='sql'), failed_message=None), LoadJobInfo(state='completed_jobs', file_path='/var/dlt/pipelines/pipeline_problem_3/load/loaded/1708280467.74259/completed_jobs/people_all_merge.f7a7e56a29.0.insert_values', file_size=336, created_at=DateTime(2024, 2, 18, 18, 21, 7, 794070, tzinfo=Timezone('UTC')), elapsed=0.6990609169006348, job_file_info=ParsedLoadJobFileName(table_name='people_all_merge', file_id='f7a7e56a29', retry_count=0, file_format='insert_values'), failed_message=None)]})], first_run=False)"
            ]
          },
          "metadata": {},
          "execution_count": 81
        }
      ]
    },
    {
      "cell_type": "code",
      "source": [
        "with pipeline_problem4.sql_client() as client:\n",
        "  with client.execute_query(\n",
        "        'SELECT * FROM people_all_merge'\n",
        "    ) as table:\n",
        "  #       # calling `df` on a cursor, returns the data as a DataFrame\n",
        "        people_merge = table.df()"
      ],
      "metadata": {
        "id": "B12g4m0Yc1bZ"
      },
      "execution_count": 82,
      "outputs": []
    },
    {
      "cell_type": "code",
      "source": [
        "#Problem 4\n",
        "print(\"Total Age:\", people_merge.age.sum())"
      ],
      "metadata": {
        "colab": {
          "base_uri": "https://localhost:8080/"
        },
        "id": "eoGTtNrsc8j5",
        "outputId": "648cdb36-f2e4-4f74-d19c-616f2334a2ea"
      },
      "execution_count": 83,
      "outputs": [
        {
          "output_type": "stream",
          "name": "stdout",
          "text": [
            "Total Age: 266\n"
          ]
        }
      ]
    },
    {
      "cell_type": "markdown",
      "source": [
        "Questions? difficulties? We are here to help.\n",
        "- DTC data engineering course channel: https://datatalks-club.slack.com/archives/C01FABYF2RG\n",
        "- dlt's DTC cohort channel: https://dlthub-community.slack.com/archives/C06GAEX2VNX"
      ],
      "metadata": {
        "id": "PoTJu4kbGG0z"
      }
    }
  ]
}